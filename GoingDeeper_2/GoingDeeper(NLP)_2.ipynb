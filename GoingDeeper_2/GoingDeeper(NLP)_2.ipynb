{
  "nbformat": 4,
  "nbformat_minor": 0,
  "metadata": {
    "colab": {
      "provenance": [],
      "collapsed_sections": [],
      "machine_shape": "hm"
    },
    "kernelspec": {
      "name": "python3",
      "display_name": "Python 3"
    },
    "language_info": {
      "name": "python"
    },
    "accelerator": "GPU"
  },
  "cells": [
    {
      "cell_type": "markdown",
      "source": [
        "# 프로젝트 : 뉴스 카테고리 다중분류\n",
        "vocabulary의 크기에 따라 머신러닝 모델의 성능이 어떻게 변하는지 확인해보고, 최고의 성능이 나오는 머신러닝모델과 임의의 딥러닝 모델과 성능을 비교해보겠습니다.\n",
        "# **First Try : num_words=10000**\n",
        "# **Step1. Import Libraries**"
      ],
      "metadata": {
        "id": "XnUoZrOgApLR"
      }
    },
    {
      "cell_type": "code",
      "execution_count": null,
      "metadata": {
        "id": "du43jSAAAf60"
      },
      "outputs": [],
      "source": [
        "from tensorflow.keras.datasets import reuters\n",
        "import matplotlib.pyplot as plt\n",
        "import seaborn as sns\n",
        "import numpy as np\n",
        "import pandas as pd\n",
        "from sklearn.feature_extraction.text import CountVectorizer\n",
        "from sklearn.feature_extraction.text import TfidfTransformer\n",
        "from sklearn.naive_bayes import MultinomialNB\n",
        "from sklearn.linear_model import LogisticRegression, SGDClassifier\n",
        "from sklearn.naive_bayes import ComplementNB\n",
        "from sklearn.tree import DecisionTreeClassifier\n",
        "from sklearn.ensemble import RandomForestClassifier\n",
        "from sklearn.ensemble import GradientBoostingClassifier\n",
        "from sklearn.ensemble import VotingClassifier\n",
        "from sklearn.svm import LinearSVC\n",
        "from sklearn.metrics import accuracy_score\n",
        "from tensorflow.keras.preprocessing.sequence import pad_sequences\n",
        "from tensorflow import keras"
      ]
    },
    {
      "cell_type": "markdown",
      "source": [
        "# **Step2. Import Data**\n",
        "우리가 사용할 데이터는 reuter new data입니다. 이 데이터는 총 46개의 클래스로 구성되며, 해당 뉴스가 어느 카테고리에 속하는지를 예측하기 위한 데이터입니다. 텐서플로우 데이터셋에서 제공하고있는 데이터로 아주 쉽게 다운로드가 가능합니다."
      ],
      "metadata": {
        "id": "QtkPzB25Entv"
      }
    },
    {
      "cell_type": "code",
      "source": [
        "(x_train, y_train), (x_test, y_test) = reuters.load_data(num_words=10000, test_split=0.2)"
      ],
      "metadata": {
        "id": "goUDR-Q2E6fz"
      },
      "execution_count": null,
      "outputs": []
    },
    {
      "cell_type": "markdown",
      "source": [
        "num_words는 이 데이터에서 빈도수 기준으로 상위 몇번째 단어까지 사용할 것인지 조절합니다."
      ],
      "metadata": {
        "id": "5i214r7MFL-z"
      }
    },
    {
      "cell_type": "markdown",
      "source": [
        "# **Step3. EDA(Exploratory Data Analysis)**\n",
        "받아온 데이터의 형태를 확인해봅시다."
      ],
      "metadata": {
        "id": "-DbFwTGgljEq"
      }
    },
    {
      "cell_type": "code",
      "source": [
        "x_train.shape, x_test.shape, y_train.shape, y_test.shape"
      ],
      "metadata": {
        "colab": {
          "base_uri": "https://localhost:8080/"
        },
        "id": "yO-EIzKAl2OI",
        "outputId": "b38d58b0-04ab-4274-9a1b-9aa6d463156a"
      },
      "execution_count": null,
      "outputs": [
        {
          "output_type": "execute_result",
          "data": {
            "text/plain": [
              "((8982,), (2246,), (8982,), (2246,))"
            ]
          },
          "metadata": {},
          "execution_count": 50
        }
      ]
    },
    {
      "cell_type": "markdown",
      "source": [
        "그럼 한번 출력을 해보죠"
      ],
      "metadata": {
        "id": "qiHx9OqwmZtP"
      }
    },
    {
      "cell_type": "code",
      "source": [
        "print(x_train[:3])\n",
        "print(y_train[:3])"
      ],
      "metadata": {
        "colab": {
          "base_uri": "https://localhost:8080/"
        },
        "id": "Xr8Pl_l9mm3b",
        "outputId": "395ca193-277c-46e1-8a66-47f16df4ebbc"
      },
      "execution_count": null,
      "outputs": [
        {
          "output_type": "stream",
          "name": "stdout",
          "text": [
            "[list([1, 2, 2, 8, 43, 10, 447, 5, 25, 207, 270, 5, 3095, 111, 16, 369, 186, 90, 67, 7, 89, 5, 19, 102, 6, 19, 124, 15, 90, 67, 84, 22, 482, 26, 7, 48, 4, 49, 8, 864, 39, 209, 154, 6, 151, 6, 83, 11, 15, 22, 155, 11, 15, 7, 48, 9, 4579, 1005, 504, 6, 258, 6, 272, 11, 15, 22, 134, 44, 11, 15, 16, 8, 197, 1245, 90, 67, 52, 29, 209, 30, 32, 132, 6, 109, 15, 17, 12])\n",
            " list([1, 3267, 699, 3434, 2295, 56, 2, 7511, 9, 56, 3906, 1073, 81, 5, 1198, 57, 366, 737, 132, 20, 4093, 7, 2, 49, 2295, 2, 1037, 3267, 699, 3434, 8, 7, 10, 241, 16, 855, 129, 231, 783, 5, 4, 587, 2295, 2, 2, 775, 7, 48, 34, 191, 44, 35, 1795, 505, 17, 12])\n",
            " list([1, 53, 12, 284, 15, 14, 272, 26, 53, 959, 32, 818, 15, 14, 272, 26, 39, 684, 70, 11, 14, 12, 3886, 18, 180, 183, 187, 70, 11, 14, 102, 32, 11, 29, 53, 44, 704, 15, 14, 19, 758, 15, 53, 959, 47, 1013, 15, 14, 19, 132, 15, 39, 965, 32, 11, 14, 147, 72, 11, 180, 183, 187, 44, 11, 14, 102, 19, 11, 123, 186, 90, 67, 960, 4, 78, 13, 68, 467, 511, 110, 59, 89, 90, 67, 1390, 55, 2678, 92, 617, 80, 1274, 46, 905, 220, 13, 4, 346, 48, 235, 629, 5, 211, 5, 1118, 7, 2, 81, 5, 187, 11, 15, 9, 1709, 201, 5, 47, 3615, 18, 478, 4514, 5, 1118, 7, 232, 2, 71, 5, 160, 63, 11, 9, 2, 81, 5, 102, 59, 11, 17, 12])]\n",
            "[3 4 3]\n"
          ]
        }
      ]
    },
    {
      "cell_type": "markdown",
      "source": [
        "텍스트가 아니라 숫자 시퀀스가 출력됩니다. 텐서플로우 데이터셋에서는 이미 전처리한 데이터를 제공해준다고 합니다.\n",
        "\n",
        "그리고 레이블은 정수형태로 저장되있습니다. 그러면 몇개의 클래를 가지고 있는지 확인해봅시다."
      ],
      "metadata": {
        "id": "LTKqwj3BmxnK"
      }
    },
    {
      "cell_type": "code",
      "source": [
        "total_class = max(y_train) + 1 # 레이블이 숫자 0부터 시작되므로 1을 더해줌\n",
        "print('클래스의 수 : {}'.format(total_class))"
      ],
      "metadata": {
        "colab": {
          "base_uri": "https://localhost:8080/"
        },
        "id": "F05rHs84nJL8",
        "outputId": "cec7bbb4-2b80-45b7-f08e-7fab5a0df403"
      },
      "execution_count": null,
      "outputs": [
        {
          "output_type": "stream",
          "name": "stdout",
          "text": [
            "클래스의 수 : 46\n"
          ]
        }
      ]
    },
    {
      "cell_type": "markdown",
      "source": [
        "클래스의 양이 많은것으로 보아 정확도를 얻는 일이 쉽지않아보입니다.\n",
        "\n",
        "다음으로 뉴스 데이터들의 길이분포를 확인해봅시다."
      ],
      "metadata": {
        "id": "gjacGtsBnZcT"
      }
    },
    {
      "cell_type": "code",
      "source": [
        "print('훈련용 뉴스의 최대길이 : {}'.format(max(len(l) for l in x_train)))\n",
        "print('훈련용 뉴스의 평균길이 : {}'.format(sum(map(len, x_train))/len(x_train)))\n",
        "\n",
        "plt.hist([len(s) for s in x_train], bins=50)\n",
        "plt.xlabel('length of smaples')\n",
        "plt.ylabel('number of samples')"
      ],
      "metadata": {
        "colab": {
          "base_uri": "https://localhost:8080/",
          "height": 330
        },
        "id": "FZYOxFZIniJE",
        "outputId": "fec99e50-7a43-4a00-b513-1afc5e4ac961"
      },
      "execution_count": null,
      "outputs": [
        {
          "output_type": "stream",
          "name": "stdout",
          "text": [
            "훈련용 뉴스의 최대길이 : 2376\n",
            "훈련용 뉴스의 평균길이 : 145.5398574927633\n"
          ]
        },
        {
          "output_type": "execute_result",
          "data": {
            "text/plain": [
              "Text(0, 0.5, 'number of samples')"
            ]
          },
          "metadata": {},
          "execution_count": 53
        },
        {
          "output_type": "display_data",
          "data": {
            "text/plain": [
              "<Figure size 432x288 with 1 Axes>"
            ],
            "image/png": "[encoded data removed]"
          },
          "metadata": {
            "needs_background": "light"
          }
        }
      ]
    },
    {
      "cell_type": "markdown",
      "source": [
        "대부분의 길이는 500미만에 몰려있는것으로 보입니다.\n",
        "\n",
        "타깃레이블의 분포도 확인해봅시다. "
      ],
      "metadata": {
        "id": "AsbIHUUioN_D"
      }
    },
    {
      "cell_type": "code",
      "source": [
        "plt.figure(figsize=(11,5))\n",
        "sns.countplot(x=y_train)"
      ],
      "metadata": {
        "colab": {
          "base_uri": "https://localhost:8080/",
          "height": 337
        },
        "id": "Qi7jqSW-oWg1",
        "outputId": "cda48040-89b3-4dc6-9366-7e4164f4fbc4"
      },
      "execution_count": null,
      "outputs": [
        {
          "output_type": "execute_result",
          "data": {
            "text/plain": [
              "<matplotlib.axes._subplots.AxesSubplot at 0x7effd9486a10>"
            ]
          },
          "metadata": {},
          "execution_count": 54
        },
        {
          "output_type": "display_data",
          "data": {
            "text/plain": [
              "<Figure size 792x360 with 1 Axes>"
            ],
            "image/png": "[encoded data removed]"
          },
          "metadata": {
            "needs_background": "light"
          }
        }
      ]
    },
    {
      "cell_type": "markdown",
      "source": [
        "이 뉴스 데이터는 3번,4번 클래스가 대부분을 차지하고 있습니다. 수치적으로도 정확히 몇개인지 출력해보겠습니다."
      ],
      "metadata": {
        "id": "VjwacmAbom3d"
      }
    },
    {
      "cell_type": "code",
      "source": [
        "unique_elements, counts_elements = np.unique(y_train, return_counts=True)\n",
        "print('각 클래스 빈도수:')\n",
        "print(np.asarray((unique_elements, counts_elements)))"
      ],
      "metadata": {
        "colab": {
          "base_uri": "https://localhost:8080/"
        },
        "id": "EAbluzplouDm",
        "outputId": "0cdce820-d314-4270-fc5d-225ae7a46a4a"
      },
      "execution_count": null,
      "outputs": [
        {
          "output_type": "stream",
          "name": "stdout",
          "text": [
            "각 클래스 빈도수:\n",
            "[[   0    1    2    3    4    5    6    7    8    9   10   11   12   13\n",
            "    14   15   16   17   18   19   20   21   22   23   24   25   26   27\n",
            "    28   29   30   31   32   33   34   35   36   37   38   39   40   41\n",
            "    42   43   44   45]\n",
            " [  55  432   74 3159 1949   17   48   16  139  101  124  390   49  172\n",
            "    26   20  444   39   66  549  269  100   15   41   62   92   24   15\n",
            "    48   19   45   39   32   11   50   10   49   19   19   24   36   30\n",
            "    13   21   12   18]]\n"
          ]
        }
      ]
    },
    {
      "cell_type": "markdown",
      "source": [
        "# **Step4. Restore from integer to text**\n",
        "정수 시퀀스로 변환된 데이터를 다시 텍스트로 돌려보겠습니다. 이번 프로젝트에서는 딥러닝이 아닌 머신러닝 방법을 사용하여 벡터화를 진행할 것이기때문입니다. \n",
        "먼저 해당 데이터의 단어장(Vocabulary)를 불러와봅시다."
      ],
      "metadata": {
        "id": "bDDl0IKpt9LW"
      }
    },
    {
      "cell_type": "code",
      "source": [
        "word_index = reuters.get_word_index(path='reuters_word_index.json')"
      ],
      "metadata": {
        "id": "HrAmDKkUvRE9"
      },
      "execution_count": null,
      "outputs": []
    },
    {
      "cell_type": "markdown",
      "source": [
        "'the'와 'it'에 어떤 정수가 맵핑되어있는지 확인해봅시다."
      ],
      "metadata": {
        "id": "yxjQbhqmvk0e"
      }
    },
    {
      "cell_type": "code",
      "source": [
        "word_index['the']"
      ],
      "metadata": {
        "colab": {
          "base_uri": "https://localhost:8080/"
        },
        "id": "jWD4DV73vfXF",
        "outputId": "180fbd9b-3e69-42be-f6d3-b7090ef8f9bf"
      },
      "execution_count": null,
      "outputs": [
        {
          "output_type": "execute_result",
          "data": {
            "text/plain": [
              "1"
            ]
          },
          "metadata": {},
          "execution_count": 57
        }
      ]
    },
    {
      "cell_type": "code",
      "source": [
        "word_index['it']"
      ],
      "metadata": {
        "colab": {
          "base_uri": "https://localhost:8080/"
        },
        "id": "0XghZJXYvvnW",
        "outputId": "5e196e6d-91c2-410f-b084-70d0889634e6"
      },
      "execution_count": null,
      "outputs": [
        {
          "output_type": "execute_result",
          "data": {
            "text/plain": [
              "13"
            ]
          },
          "metadata": {},
          "execution_count": 58
        }
      ]
    },
    {
      "cell_type": "markdown",
      "source": [
        "우리는 정수로부터 단어를 얻는 index_word가 필요합니다. \n",
        "그리고 \\<pad>,\\<sos>,\\<unk>의 토큰에 0번,1번,2번을 맵핑해줄것이기때문에 기존index에 전부 3을 더해주어야합니다."
      ],
      "metadata": {
        "id": "IELrRNWEwD8n"
      }
    },
    {
      "cell_type": "code",
      "source": [
        "index_to_word = {index+3 : word for word, index in word_index.items()}\n",
        "\n",
        "for index, token in enumerate(('<pad>', '<sos>', '<unk>')):\n",
        "    index_to_word[index] = token"
      ],
      "metadata": {
        "id": "uSjBUSAwwvww"
      },
      "execution_count": null,
      "outputs": []
    },
    {
      "cell_type": "markdown",
      "source": [
        "그럼 index_to_word를 이용해서 첫번째 훈련용 뉴스 기사를 원래 텍스트로 복원해보겠습니다."
      ],
      "metadata": {
        "id": "Lgu94cGgxU37"
      }
    },
    {
      "cell_type": "code",
      "source": [
        "print(' '.join([index_to_word[index] for index in x_train[0]]))"
      ],
      "metadata": {
        "colab": {
          "base_uri": "https://localhost:8080/"
        },
        "id": "dAd3MZxyxbGD",
        "outputId": "aca1e92d-c632-4d6f-ac60-cc4014dad9b0"
      },
      "execution_count": null,
      "outputs": [
        {
          "output_type": "stream",
          "name": "stdout",
          "text": [
            "<sos> <unk> <unk> said as a result of its december acquisition of space co it expects earnings per share in 1987 of 1 15 to 1 30 dlrs per share up from 70 cts in 1986 the company said pretax net should rise to nine to 10 mln dlrs from six mln dlrs in 1986 and rental operation revenues to 19 to 22 mln dlrs from 12 5 mln dlrs it said cash flow per share this year should be 2 50 to three dlrs reuter 3\n"
          ]
        }
      ]
    },
    {
      "cell_type": "markdown",
      "source": [
        "첫번째 훈련용 뉴스기사가 정수 시퀀스에서 텍스트로 복원되었습니다. 이 데이터도 어느 정도 전처리가 된 상태라서, 자연스럽게 읽히지는 않습니다. 하지만 문맥을 가진 텍스트이기때문에, 이 데이터를 가지고 머신러닝을 시작해도 문제없어 보입니다.\n",
        "\n",
        "이제 전체 훈련용, 테스트용 뉴스데이터를 텍스트데이터로 변환해 보겠습니다."
      ],
      "metadata": {
        "id": "LNRjPiFpx2sH"
      }
    },
    {
      "cell_type": "code",
      "source": [
        "# train dataset\n",
        "decoded = []\n",
        "for i in range(len(x_train)):\n",
        "    t = ' '.join([index_to_word[index] for index in x_train[i]])\n",
        "    decoded.append(t)\n",
        "\n",
        "x_train = decoded\n",
        "print(len(x_train))\n",
        "\n",
        "# test dataset\n",
        "decoded = []\n",
        "for i in range(len(x_test)):\n",
        "    t = ' '.join([index_to_word[index] for index in x_test[i]])\n",
        "    decoded.append(t)\n",
        "\n",
        "x_test = decoded\n",
        "print(len(x_test))"
      ],
      "metadata": {
        "colab": {
          "base_uri": "https://localhost:8080/"
        },
        "id": "tSlMi7cGyLIx",
        "outputId": "0dcb2b38-0ad3-4c00-91e2-2a2d10f6b5bd"
      },
      "execution_count": null,
      "outputs": [
        {
          "output_type": "stream",
          "name": "stdout",
          "text": [
            "8982\n",
            "2246\n"
          ]
        }
      ]
    },
    {
      "cell_type": "markdown",
      "source": [
        "제대로 변환이 됐는지 한번 출력해봅시다."
      ],
      "metadata": {
        "id": "LCd_4DMrzNfX"
      }
    },
    {
      "cell_type": "code",
      "source": [
        "x_train[1]"
      ],
      "metadata": {
        "colab": {
          "base_uri": "https://localhost:8080/",
          "height": 54
        },
        "id": "98j6SYd3zR46",
        "outputId": "a73d02f7-d395-46e4-c311-5cce5aab6eed"
      },
      "execution_count": null,
      "outputs": [
        {
          "output_type": "execute_result",
          "data": {
            "text/plain": [
              "'<sos> generale de banque sa lt <unk> br and lt heller overseas corp of chicago have each taken 50 pct stakes in <unk> company sa <unk> factors generale de banque said in a statement it gave no financial details of the transaction sa <unk> <unk> turnover in 1986 was 17 5 billion belgian francs reuter 3'"
            ],
            "application/vnd.google.colaboratory.intrinsic+json": {
              "type": "string"
            }
          },
          "metadata": {},
          "execution_count": 62
        }
      ]
    },
    {
      "cell_type": "code",
      "source": [
        "x_test[1]"
      ],
      "metadata": {
        "colab": {
          "base_uri": "https://localhost:8080/",
          "height": 140
        },
        "id": "acFiZ18kzYXQ",
        "outputId": "638498e4-5aab-4804-a04f-9870fab407b7"
      },
      "execution_count": null,
      "outputs": [
        {
          "output_type": "execute_result",
          "data": {
            "text/plain": [
              "\"<sos> philippine sugar production in the 1987 88 crop year ending august has been set at 1 6 mln tonnes up from a provisional 1 3 mln tonnes this year sugar regulatory administration <unk> chairman <unk> yulo said yulo told reuters a survey during the current milling season which ends next month showed the 1986 87 estimate would almost certainly be met he said at least 1 2 mln tonnes of the 1987 88 crop would be earmarked for domestic consumption yulo said about 130 000 tonnes would be set aside for the u s sugar quota 150 000 tonnes for strategic reserves and 50 000 tonnes would be sold on the world market he said if the government approved a long standing <unk> recommendation to manufacture ethanol the project would take up another 150 000 tonnes slightly raising the target the government for its own reasons has been delaying approval of the project but we expect it to come through by july yulo said ethanol could make up five pct of gasoline cutting the oil import bill by about 300 mln pesos yulo said three major philippine <unk> were ready to start manufacturing ethanol if the project was approved the ethanol project would result in employment for about 100 000 people sharply reducing those thrown out of work by depressed world sugar prices and a <unk> domestic industry production quotas set for the first time in 1987 88 had been submitted to president corazon aquino i think the president would rather wait <unk> the new congress <unk> after the may elections he said but there is really no need for such quotas we are right now producing just slightly over our own consumption level the producers have never enjoyed such high prices yulo said adding sugar was currently selling locally for 320 pesos per <unk> up from 190 pesos last august yulo said prices were driven up because of speculation following the <unk> bid to control production we are no longer concerned so much with the world market he said adding producers in the <unk> region had learned from their <unk> and diversified into corn and <unk> farming and <unk> production he said diversification into products other than ethanol was also possible within the sugar industry the <unk> long ago <unk> their <unk> yulo said they have 300 sugar mills compared with our 41 but they <unk> many of them and diversified production we want to call this a <unk> <unk> instead of the sugar industry he said sugarcane could be fed to pigs and livestock used for <unk> <unk> or used in room <unk> when you cut sugarcane you don't even have to produce sugar he said yulo said the philippines was lobbying for a renewal of the international sugar agreement which expired in 1984 as a major sugar producer we are urging them to write a new agreement which would revive world prices yulo said if there is no agreement world prices will always be depressed particularly because the european community is <unk> its producers and dumping sugar on the markets he said current world prices holding steady at about 7 60 cents per pound were <unk> for the philippines where production costs ranged from 12 to 14 cents a pound if the price holds steady for a while at 7 60 cents i expect the level to rise to about 11 cents a pound by the end of this year he said yulo said economists forecast a bullish sugar market by 1990 with world consumption <unk> production he said sugar markets were holding up despite <unk> from artificial sweeteners and high fructose corn syrup but we are not happy with the reagan administration he said since <unk> we have been regular suppliers of sugar to the u s in 1982 when they restored the quota system they cut <unk> in half without any justification manila was <unk> watching washington's moves to cut domestic support prices to 12 cents a pound from 18 cents the u s agriculture department last december slashed its 12 month 1987 sugar import quota from the philippines to 143 780 short tons from 231 660 short tons in 1986 yulo said despite next year's increased production target some philippine mills were expected to shut down at least four of the 41 mills were not working during the 1986 87 season he said we expect two or three more to follow suit during the next season reuter 3\""
            ],
            "application/vnd.google.colaboratory.intrinsic+json": {
              "type": "string"
            }
          },
          "metadata": {},
          "execution_count": 63
        }
      ]
    },
    {
      "cell_type": "markdown",
      "source": [
        "# **Step5. Vectorizing**\n",
        "텍스트 데이터가 있을 때, 모델의 입력으로 넣기 위해서는 우선 각 문서를 벡터화할 필요가 있습니다. 일반적으로 텍스트 분류를 할 모델로 인공 신경망을 사용하는 경우, 벡터화 방법 또한 인공 신경망을 사용하는것이 보편적입니다.(Eembedding)\n",
        "\n",
        "여기서는 인공신경망이아닌 머신러닝을 사용하기때문에, 벡터화 방법도 인공신경망이 아닌 방법을 사용합니다. 여기서 사용할 벡터화 방법은 Bag of Words가설을 기반으로하는 DTM, TF-IDF입니다."
      ],
      "metadata": {
        "id": "DAsIQD1Rzdte"
      }
    },
    {
      "cell_type": "code",
      "source": [
        "# DTM 생성\n",
        "dtmvector = CountVectorizer()\n",
        "x_train_dtm = dtmvector.fit_transform(x_train)\n",
        "x_test_dtm = dtmvector.transform(x_test)\n",
        "print(x_train_dtm.shape)"
      ],
      "metadata": {
        "colab": {
          "base_uri": "https://localhost:8080/"
        },
        "id": "n0zASTwI0txv",
        "outputId": "19e35bb2-335e-4ca2-a2cc-7e4156013b31"
      },
      "execution_count": null,
      "outputs": [
        {
          "output_type": "stream",
          "name": "stdout",
          "text": [
            "(8982, 9670)\n"
          ]
        }
      ]
    },
    {
      "cell_type": "markdown",
      "source": [
        "이전에 num_words=10000을 사용했지만, DTM열의 개수는 이보다 적은수입니다. 그 이유는 DTM이 자체적인 규칙에 따라서 불필요하다고 판단하는 토큰들을 제거했기 때문입니다.\n",
        "\n",
        "이어서 TF-IDF행렬을 만들어봅시다."
      ],
      "metadata": {
        "id": "4tpHf4J_1WVu"
      }
    },
    {
      "cell_type": "code",
      "source": [
        "# TF-IDF생성\n",
        "tfidf_transformer = TfidfTransformer()\n",
        "tfidfv = tfidf_transformer.fit_transform(x_train_dtm)\n",
        "tfidfv_test = tfidf_transformer.transform(x_test_dtm)\n",
        "print(tfidfv.shape)"
      ],
      "metadata": {
        "colab": {
          "base_uri": "https://localhost:8080/"
        },
        "id": "a_EH-kk41sS-",
        "outputId": "3781bb1f-05f0-49c6-a943-39bc07df6610"
      },
      "execution_count": null,
      "outputs": [
        {
          "output_type": "stream",
          "name": "stdout",
          "text": [
            "(8982, 9670)\n"
          ]
        }
      ]
    },
    {
      "cell_type": "markdown",
      "source": [
        "추가적인 전처리를 하지 않는 이상, DTM과 동일한 크기를 가집니다."
      ],
      "metadata": {
        "id": "c-j1EBdu17FE"
      }
    },
    {
      "cell_type": "markdown",
      "source": [
        "# **Step6. Using various machine learning model**\n",
        "다양한 머신러닝 모델을 사용해서 성능을 비교해보겠습니다.\n",
        "1. Multinomial Naive Bayes Classifier(NB)\n",
        "2. Complement Naive Bayes Classifier(CNB)\n",
        "3. Logistic Regression\n",
        "4. Linear Support Vector Machine\n",
        "5. Decision Tree\n",
        "6. Random Forest\n",
        "7. GradientBoostingClassifier\n",
        "8. Voting"
      ],
      "metadata": {
        "id": "XWZbDXsx3yRd"
      }
    },
    {
      "cell_type": "markdown",
      "source": [
        "## 1. Multinomial Naive Bayes Classifier(NB)\n",
        "나이브 베이즈 분류기는 베이즈 정리에 기반한 통계적 분류 기법이고, feature끼리 서로독립이라는 조건이 필요합니다."
      ],
      "metadata": {
        "id": "0CGWob3X5Kao"
      }
    },
    {
      "cell_type": "code",
      "source": [
        "model = MultinomialNB()\n",
        "model.fit(tfidfv, y_train)\n",
        "predicted = model.predict(tfidfv_test)\n",
        "print('accuracy :', accuracy_score(y_test, predicted))"
      ],
      "metadata": {
        "colab": {
          "base_uri": "https://localhost:8080/"
        },
        "id": "fDw_IKo95cg-",
        "outputId": "efa372bc-1d15-44d2-f388-9c42a1aca5e6"
      },
      "execution_count": null,
      "outputs": [
        {
          "output_type": "stream",
          "name": "stdout",
          "text": [
            "accuracy : 0.6567230632235085\n"
          ]
        }
      ]
    },
    {
      "cell_type": "markdown",
      "source": [
        "## 2. Complement Naive Bayes Classifier(CNB)\n",
        "NB는 독립변수가 '조건부로 독립적'이라는 가정을하기때문에, 문서가 특정분류에 속할 실제 확률을 사용할때 문제가 발생할 수 있습니다. 대부분의 샘플이 3번,4번 클래스에 치중해있기때문에, 데이터가 불균형합니다. 이 경우에 사용하는것이 CNB입니다. 이는 데이터의 불균형을 고려하여 가중치를 부여하는 특징을 가지고 있습니다. 따라서 일반적으로 CNB는 NB보다 성능이 좋습니다."
      ],
      "metadata": {
        "id": "ysmPlL0J68rv"
      }
    },
    {
      "cell_type": "code",
      "source": [
        "cb = ComplementNB()\n",
        "cb.fit(tfidfv, y_train)\n",
        "predicted = cb.predict(tfidfv_test)\n",
        "print('accuracy :', accuracy_score(y_test, predicted))"
      ],
      "metadata": {
        "colab": {
          "base_uri": "https://localhost:8080/"
        },
        "id": "79KOSwJk7ykO",
        "outputId": "87328f3e-6ce1-4853-d5cc-73ba66ae41fb"
      },
      "execution_count": null,
      "outputs": [
        {
          "output_type": "stream",
          "name": "stdout",
          "text": [
            "accuracy : 0.7707034728406055\n"
          ]
        }
      ]
    },
    {
      "cell_type": "markdown",
      "source": [
        "## 3. Logistic Regression\n",
        "로지스틱 회귀는 소프트맥스함수를 사용한 다중 클래스 분류 알고리즘을 지원합니다. 주의할점은 이름이 회귀이지만, 실제로는 분류를 수행한다는 점입니다."
      ],
      "metadata": {
        "id": "tkQjOD6I8IGs"
      }
    },
    {
      "cell_type": "code",
      "source": [
        "lr = LogisticRegression(C=10000, penalty='l2', max_iter=3000)\n",
        "lr.fit(tfidfv, y_train)\n",
        "predicted = lr.predict(tfidfv_test)\n",
        "print('accuracy :', accuracy_score(y_test, predicted))"
      ],
      "metadata": {
        "colab": {
          "base_uri": "https://localhost:8080/"
        },
        "id": "gr7asvHA8XNW",
        "outputId": "2b7eda97-e951-42c2-fa7d-499640ba875b"
      },
      "execution_count": null,
      "outputs": [
        {
          "output_type": "stream",
          "name": "stdout",
          "text": [
            "accuracy : 0.8107747105966162\n"
          ]
        }
      ]
    },
    {
      "cell_type": "markdown",
      "source": [
        "## 4. Linear Support Vector Machine(SVM)\n",
        "LinearSVM은 태생적으로 이진분류를 위한 모델입니다. 그런데 이진분류 알고리즘을 다중클래스분류 알고리즘으로 사용하는 방법이 있습니다. 각 클래스를 다른 모든클래스와 구분하도록 이진분류모델을 학습시켜면 되죠. 결국 클래스의 수만큼 이진분류모델이 만들어집니다. "
      ],
      "metadata": {
        "id": "ZC_iuuvQ8sC8"
      }
    },
    {
      "cell_type": "code",
      "source": [
        "lsvc = LinearSVC(C=10000, penalty='l1', max_iter=3000, dual=False)\n",
        "lsvc.fit(tfidfv, y_train)\n",
        "predicted = lsvc.predict(tfidfv_test)\n",
        "print('accuracy :', accuracy_score(y_test, predicted))"
      ],
      "metadata": {
        "colab": {
          "base_uri": "https://localhost:8080/"
        },
        "id": "A3hW-kCF9Wxb",
        "outputId": "16f06c4a-ad7c-4a3a-8e94-40766d5382a3"
      },
      "execution_count": null,
      "outputs": [
        {
          "output_type": "stream",
          "name": "stdout",
          "text": [
            "accuracy : 0.7733748886910062\n"
          ]
        },
        {
          "output_type": "stream",
          "name": "stderr",
          "text": [
            "/usr/local/lib/python3.7/dist-packages/sklearn/svm/_base.py:1208: ConvergenceWarning: Liblinear failed to converge, increase the number of iterations.\n",
            "  ConvergenceWarning,\n"
          ]
        }
      ]
    },
    {
      "cell_type": "markdown",
      "source": [
        "## 5. Decision Tree\n",
        "결정트리는 분류와 회귀문제에 널리 사용하는 모델입니다. 기본적으로 결정트리는 결정에 다다르기 위해 '예/아니오'질문을 이어나가면서 학습하죠. 하지만 트리계열의 모델들은 고차원이고 희소한 데이터에 대해서는 성능이 나오지 않는다는 특징이있습니다. 따라서 DTM이나 TF-IDF행렬의 경우 고차원이면서 sparse하기때문에 성능이 별로 나오지 않습니다."
      ],
      "metadata": {
        "id": "D19Z0eve9xTT"
      }
    },
    {
      "cell_type": "code",
      "source": [
        "tree = DecisionTreeClassifier(max_depth=10, random_state=0)\n",
        "tree.fit(tfidfv, y_train)\n",
        "predicted = tree.predict(tfidfv_test)\n",
        "print('accuracy :', accuracy_score(y_test, predicted))"
      ],
      "metadata": {
        "colab": {
          "base_uri": "https://localhost:8080/"
        },
        "id": "y7i9-LAF-0Fu",
        "outputId": "181077bb-6352-47f8-f1d7-528d3de58872"
      },
      "execution_count": null,
      "outputs": [
        {
          "output_type": "stream",
          "name": "stdout",
          "text": [
            "accuracy : 0.6202137132680321\n"
          ]
        }
      ]
    },
    {
      "cell_type": "markdown",
      "source": [
        "## 6. Random Forest\n",
        "결정트리는 훈련데이터에 과적합되는 경향이있습니다. 랜덤포레스트는 이 문제를 앙상블로 해결합니다. 가령 서로 다른 방향으로 과적합된 트리들을 조합하면 오히려 모델전체에서는 과적합을 피할수 있죠."
      ],
      "metadata": {
        "id": "HHrvBf1y_G5E"
      }
    },
    {
      "cell_type": "code",
      "source": [
        "forest = RandomForestClassifier(n_estimators=5, random_state=0)\n",
        "forest.fit(tfidfv, y_train)\n",
        "predicted = forest.predict(tfidfv_test)\n",
        "print('accuracy :', accuracy_score(y_test, predicted))"
      ],
      "metadata": {
        "colab": {
          "base_uri": "https://localhost:8080/"
        },
        "id": "0axfSGko_aC1",
        "outputId": "415ec16d-2a50-4033-e363-0d0e25a5a0f5"
      },
      "execution_count": null,
      "outputs": [
        {
          "output_type": "stream",
          "name": "stdout",
          "text": [
            "accuracy : 0.674087266251113\n"
          ]
        }
      ]
    },
    {
      "cell_type": "markdown",
      "source": [
        "## 7. GradientBoostingClassifier\n",
        "그래디언트 부스팅트리는 여러개의 결정 트리를 묶어 만드는 앙상블 모델입니다. 랜덤포레스트와 다르게 이전 트리의 오차를 보완하는 방식으로 순차적으로 트리를 만듭니다. 그래디언트 부스팅 트리는 일부 특성을 무시한다는 특징을 갖고있습니다. 그래서 보통 랜덤포레스트를 먼저 사용해보고, 성능이나 예측 시간면에서 만족스럽지 않은 경우에 그래디언트 부스팅 트리를 사용하는것이 좋습니다.\n",
        "###장점\n",
        "- 메모리적게사용\n",
        "- 예측이 빠름\n",
        "\n",
        "###단점\n",
        "- 훈련시간이 느림\n",
        "- 희소한 고차원 데이터에서는 성능이 낮음"
      ],
      "metadata": {
        "id": "RHRUND8YAKV8"
      }
    },
    {
      "cell_type": "code",
      "source": [
        "grbt = GradientBoostingClassifier(random_state=0)\n",
        "grbt.fit(tfidfv, y_train)\n",
        "predicted = grbt.predict(tfidfv_test)\n",
        "print('accuracy :', accuracy_score(y_test, predicted))"
      ],
      "metadata": {
        "colab": {
          "base_uri": "https://localhost:8080/"
        },
        "id": "SkWc2KY5A-Nb",
        "outputId": "ca92051f-f122-4f65-e168-28a60532fe31"
      },
      "execution_count": null,
      "outputs": [
        {
          "output_type": "stream",
          "name": "stdout",
          "text": [
            "accuracy : 0.7662511130899377\n"
          ]
        }
      ]
    },
    {
      "cell_type": "markdown",
      "source": [
        "## 8. Voting\n",
        "캐글에서 상위권을 차지한 많은 솔루션들이 앙상블이라는 방법을 사용합니다. 그중에서 투표를 통해 결과를 도출하는 보팅이라는 방법을 사용합니다.\n",
        "### hard Voting\n",
        ": 결과물에 대한 최종값을 투표해서 결정\n",
        "\n",
        "### Soft Voting\n",
        ": 결과물이 나올 확률값을 다 더해서 최종 결과물에 대한 각각의 확률을 구한뒤 최종값을 도출\n",
        "\n",
        "로지스틱회귀,CNB,그래디언트 부스팅 트리를 사용하여 소프트보팅을 해봅시다."
      ],
      "metadata": {
        "id": "xH1JyEaLBjPJ"
      }
    },
    {
      "cell_type": "code",
      "source": [
        "voting_classifier = VotingClassifier(estimators=[\n",
        "    ('lr', LogisticRegression(C=10000, max_iter=3000, penalty='l2')),\n",
        "    ('cb', ComplementNB()),\n",
        "    ('grbt', GradientBoostingClassifier(random_state=0))\n",
        "], voting='soft')\n",
        "voting_classifier.fit(tfidfv, y_train)\n",
        "predicted = voting_classifier.predict(tfidfv_test)\n",
        "print('accuracy :', accuracy_score(y_test, predicted))"
      ],
      "metadata": {
        "colab": {
          "base_uri": "https://localhost:8080/"
        },
        "id": "OXzSHCd3COUo",
        "outputId": "4748b7c2-6272-4814-984e-e3265bddeca6"
      },
      "execution_count": null,
      "outputs": [
        {
          "output_type": "stream",
          "name": "stdout",
          "text": [
            "accuracy : 0.8165627782724845\n"
          ]
        }
      ]
    },
    {
      "cell_type": "markdown",
      "source": [
        "# **Step7. Performance Comparison**\n",
        "\n",
        "|num_words=10000|accuracy|\n",
        "|:----:|:----:|\n",
        "|Naive Bayes Classifier|0.656|\n",
        "|Complement Naive Bayes Classifier|0.771|\n",
        "|Logistic Regression|0.811|\n",
        "|LinearSVC|0.773|\n",
        "|DecisionTree|0.620|\n",
        "|RandomForest|0.674|\n",
        "|Gradient BoostingTree|0.766|\n",
        "|Soft Voting|0.817|\n",
        "\n",
        "로지스틱회귀와 소프트보팅이 80%이상의 정확도를 보여줍니다."
      ],
      "metadata": {
        "id": "ioMiFgMEEEp1"
      }
    },
    {
      "cell_type": "markdown",
      "source": [
        "# **Second Try : num_words=6000**\n",
        "단어장의 크기를 6000으로 줄여서 이전 메커니즘을 그대로 수행해보겠습니다."
      ],
      "metadata": {
        "id": "LpJQYz_BRFrs"
      }
    },
    {
      "cell_type": "code",
      "source": [
        "# 데이터 불러오기\n",
        "(x_train, y_train), (x_test, y_test) = reuters.load_data(num_words=6000, test_split=0.2)\n",
        "\n",
        "# 정수시퀀스 텍스트로 변환\n",
        "word_index = reuters.get_word_index(path='reuters_word_index.json')\n",
        "index_to_word = {index+3 : word for word, index in word_index.items()}\n",
        "\n",
        "for index, token in enumerate(('<pad>', '<sos>', '<unk>')):\n",
        "    index_to_word[index] = token\n",
        "\n",
        "# train dataset\n",
        "decoded = []\n",
        "for i in range(len(x_train)):\n",
        "    t = ' '.join([index_to_word[index] for index in x_train[i]])\n",
        "    decoded.append(t)\n",
        "\n",
        "x_train = decoded\n",
        "print(len(x_train))\n",
        "\n",
        "# test dataset\n",
        "decoded = []\n",
        "for i in range(len(x_test)):\n",
        "    t = ' '.join([index_to_word[index] for index in x_test[i]])\n",
        "    decoded.append(t)\n",
        "\n",
        "x_test = decoded\n",
        "print(len(x_test))"
      ],
      "metadata": {
        "colab": {
          "base_uri": "https://localhost:8080/"
        },
        "id": "8nbsOBDuSCXS",
        "outputId": "66b12fc9-a324-43f4-b891-305e32414554"
      },
      "execution_count": null,
      "outputs": [
        {
          "output_type": "stream",
          "name": "stdout",
          "text": [
            "8982\n",
            "2246\n"
          ]
        }
      ]
    },
    {
      "cell_type": "code",
      "source": [
        "# 벡터화\n",
        "# DTM 생성\n",
        "dtmvector = CountVectorizer()\n",
        "x_train_dtm = dtmvector.fit_transform(x_train)\n",
        "x_test_dtm = dtmvector.transform(x_test)\n",
        "\n",
        "# TF-IDF생성\n",
        "tfidf_transformer = TfidfTransformer()\n",
        "tfidfv = tfidf_transformer.fit_transform(x_train_dtm)\n",
        "tfidfv_test = tfidf_transformer.transform(x_test_dtm)\n",
        "print(tfidfv.shape)"
      ],
      "metadata": {
        "colab": {
          "base_uri": "https://localhost:8080/"
        },
        "id": "rWvNkoQWTQNs",
        "outputId": "bc97c7d7-9b55-4063-f0f0-8fbd7f609d85"
      },
      "execution_count": null,
      "outputs": [
        {
          "output_type": "stream",
          "name": "stdout",
          "text": [
            "(8982, 5844)\n"
          ]
        }
      ]
    },
    {
      "cell_type": "code",
      "source": [
        "# 1. Multinomial Naive Bayes Classifier(NB)\n",
        "model = MultinomialNB()\n",
        "model.fit(tfidfv, y_train)\n",
        "predicted = model.predict(tfidfv_test)\n",
        "print('accuracy :', accuracy_score(y_test, predicted))"
      ],
      "metadata": {
        "colab": {
          "base_uri": "https://localhost:8080/"
        },
        "id": "Lqz7Wzy9Taa1",
        "outputId": "68d3d9d4-0c16-4580-8564-37355e41db30"
      },
      "execution_count": null,
      "outputs": [
        {
          "output_type": "stream",
          "name": "stdout",
          "text": [
            "accuracy : 0.6691896705253785\n"
          ]
        }
      ]
    },
    {
      "cell_type": "code",
      "source": [
        "# 2. Complement Naive Bayes Classifier(CNB)\n",
        "cb = ComplementNB()\n",
        "cb.fit(tfidfv, y_train)\n",
        "predicted = cb.predict(tfidfv_test)\n",
        "print('accuracy :', accuracy_score(y_test, predicted))"
      ],
      "metadata": {
        "colab": {
          "base_uri": "https://localhost:8080/"
        },
        "id": "klfqrqsCTg2S",
        "outputId": "456b34b5-a8e5-4152-dd51-9f5831e66ef9"
      },
      "execution_count": null,
      "outputs": [
        {
          "output_type": "stream",
          "name": "stdout",
          "text": [
            "accuracy : 0.7689225289403384\n"
          ]
        }
      ]
    },
    {
      "cell_type": "code",
      "source": [
        "# 3. Logistic Regression\n",
        "lr = LogisticRegression(C=10000, penalty='l2', max_iter=3000)\n",
        "lr.fit(tfidfv, y_train)\n",
        "predicted = lr.predict(tfidfv_test)\n",
        "print('accuracy :', accuracy_score(y_test, predicted))"
      ],
      "metadata": {
        "colab": {
          "base_uri": "https://localhost:8080/"
        },
        "id": "l-w2DIMaTlEm",
        "outputId": "aea503d8-a4f2-466c-ae06-1f00324bb732"
      },
      "execution_count": null,
      "outputs": [
        {
          "output_type": "stream",
          "name": "stdout",
          "text": [
            "accuracy : 0.8076580587711487\n"
          ]
        }
      ]
    },
    {
      "cell_type": "code",
      "source": [
        "# 4. Linear Support Vector Machine(SVM)\n",
        "lsvc = LinearSVC(C=10000, penalty='l1', max_iter=3000, dual=False)\n",
        "lsvc.fit(tfidfv, y_train)\n",
        "predicted = lsvc.predict(tfidfv_test)\n",
        "print('accuracy :', accuracy_score(y_test, predicted))"
      ],
      "metadata": {
        "colab": {
          "base_uri": "https://localhost:8080/"
        },
        "id": "QozAosVPTpLo",
        "outputId": "9869ab4f-266e-49ea-a25c-a900d20b89ab"
      },
      "execution_count": null,
      "outputs": [
        {
          "output_type": "stream",
          "name": "stdout",
          "text": [
            "accuracy : 0.7702582368655387\n"
          ]
        },
        {
          "output_type": "stream",
          "name": "stderr",
          "text": [
            "/usr/local/lib/python3.7/dist-packages/sklearn/svm/_base.py:1208: ConvergenceWarning: Liblinear failed to converge, increase the number of iterations.\n",
            "  ConvergenceWarning,\n"
          ]
        }
      ]
    },
    {
      "cell_type": "code",
      "source": [
        "# 5. Decision Tree\n",
        "tree = DecisionTreeClassifier(max_depth=10, random_state=0)\n",
        "tree.fit(tfidfv, y_train)\n",
        "predicted = tree.predict(tfidfv_test)\n",
        "print('accuracy :', accuracy_score(y_test, predicted))"
      ],
      "metadata": {
        "colab": {
          "base_uri": "https://localhost:8080/"
        },
        "id": "qTZtkRA-Tsxk",
        "outputId": "7f211c53-66c9-4aaf-8bee-655698a12c2d"
      },
      "execution_count": null,
      "outputs": [
        {
          "output_type": "stream",
          "name": "stdout",
          "text": [
            "accuracy : 0.6260017809439002\n"
          ]
        }
      ]
    },
    {
      "cell_type": "code",
      "source": [
        "# 6. Random Forest\n",
        "forest = RandomForestClassifier(n_estimators=5, random_state=0)\n",
        "forest.fit(tfidfv, y_train)\n",
        "predicted = forest.predict(tfidfv_test)\n",
        "print('accuracy :', accuracy_score(y_test, predicted))"
      ],
      "metadata": {
        "colab": {
          "base_uri": "https://localhost:8080/"
        },
        "id": "zcI7G_wuTwVc",
        "outputId": "1e33f4ee-583a-4234-9f20-ed020179db9e"
      },
      "execution_count": null,
      "outputs": [
        {
          "output_type": "stream",
          "name": "stdout",
          "text": [
            "accuracy : 0.6874443455031166\n"
          ]
        }
      ]
    },
    {
      "cell_type": "code",
      "source": [
        "# 7. GradientBoostingClassifier\n",
        "grbt = GradientBoostingClassifier(random_state=0)\n",
        "grbt.fit(tfidfv, y_train)\n",
        "predicted = grbt.predict(tfidfv_test)\n",
        "print('accuracy :', accuracy_score(y_test, predicted))"
      ],
      "metadata": {
        "colab": {
          "base_uri": "https://localhost:8080/"
        },
        "id": "rH734cBLTzwL",
        "outputId": "fef5b8a2-b476-4f03-8a8a-e459ce29bdde"
      },
      "execution_count": null,
      "outputs": [
        {
          "output_type": "stream",
          "name": "stdout",
          "text": [
            "accuracy : 0.7644701691896705\n"
          ]
        }
      ]
    },
    {
      "cell_type": "code",
      "source": [
        "# 8. Voting\n",
        "voting_classifier = VotingClassifier(estimators=[\n",
        "    ('lr', LogisticRegression(C=10000, max_iter=3000, penalty='l2')),\n",
        "    ('cb', ComplementNB()),\n",
        "    ('grbt', GradientBoostingClassifier(random_state=0))\n",
        "], voting='soft')\n",
        "voting_classifier.fit(tfidfv, y_train)\n",
        "predicted = voting_classifier.predict(tfidfv_test)\n",
        "print('accuracy :', accuracy_score(y_test, predicted))"
      ],
      "metadata": {
        "colab": {
          "base_uri": "https://localhost:8080/"
        },
        "id": "PgUtDo9ET37J",
        "outputId": "adf25224-57e3-41d9-cc64-bb60cd2d1054"
      },
      "execution_count": null,
      "outputs": [
        {
          "output_type": "stream",
          "name": "stdout",
          "text": [
            "accuracy : 0.8138913624220837\n"
          ]
        }
      ]
    },
    {
      "cell_type": "markdown",
      "source": [
        "|num_words=6000|accuracy|\n",
        "|:----:|:----:|\n",
        "|Naive Bayes Classifier|0.669|\n",
        "|Complement Naive Bayes Classifier|0.769|\n",
        "|Logistic Regression|0.807|\n",
        "|LinearSVC|0.770|\n",
        "|DecisionTree|0.626|\n",
        "|RandomForest|0.687|\n",
        "|Gradient BoostingTree|0.764|\n",
        "|Soft Voting|0.813|\n",
        "\n",
        "전반적으로 값이 내려갔습니다."
      ],
      "metadata": {
        "id": "x4EDvrONUHt0"
      }
    },
    {
      "cell_type": "markdown",
      "source": [
        "# **Third try : num_words=14000**"
      ],
      "metadata": {
        "id": "tv6QsmdfUYGy"
      }
    },
    {
      "cell_type": "code",
      "source": [
        "# 데이터 불러오기\n",
        "(x_train, y_train), (x_test, y_test) = reuters.load_data(num_words=14000, test_split=0.2)\n",
        "\n",
        "# 정수시퀀스 텍스트로 변환\n",
        "word_index = reuters.get_word_index(path='reuters_word_index.json')\n",
        "index_to_word = {index+3 : word for word, index in word_index.items()}\n",
        "\n",
        "for index, token in enumerate(('<pad>', '<sos>', '<unk>')):\n",
        "    index_to_word[index] = token\n",
        "\n",
        "# train dataset\n",
        "decoded = []\n",
        "for i in range(len(x_train)):\n",
        "    t = ' '.join([index_to_word[index] for index in x_train[i]])\n",
        "    decoded.append(t)\n",
        "\n",
        "x_train = decoded\n",
        "print(len(x_train))\n",
        "\n",
        "# test dataset\n",
        "decoded = []\n",
        "for i in range(len(x_test)):\n",
        "    t = ' '.join([index_to_word[index] for index in x_test[i]])\n",
        "    decoded.append(t)\n",
        "\n",
        "x_test = decoded\n",
        "print(len(x_test))"
      ],
      "metadata": {
        "colab": {
          "base_uri": "https://localhost:8080/"
        },
        "id": "PpccHH3pUjfo",
        "outputId": "b6583a0a-6515-4b3d-eeb3-d3e8b7b588da"
      },
      "execution_count": null,
      "outputs": [
        {
          "output_type": "stream",
          "name": "stdout",
          "text": [
            "8982\n",
            "2246\n"
          ]
        }
      ]
    },
    {
      "cell_type": "code",
      "source": [
        "# 벡터화\n",
        "# DTM 생성\n",
        "dtmvector = CountVectorizer()\n",
        "x_train_dtm = dtmvector.fit_transform(x_train)\n",
        "x_test_dtm = dtmvector.transform(x_test)\n",
        "\n",
        "# TF-IDF생성\n",
        "tfidf_transformer = TfidfTransformer()\n",
        "tfidfv = tfidf_transformer.fit_transform(x_train_dtm)\n",
        "tfidfv_test = tfidf_transformer.transform(x_test_dtm)\n",
        "print(tfidfv.shape)"
      ],
      "metadata": {
        "colab": {
          "base_uri": "https://localhost:8080/"
        },
        "id": "sZd0uaHgUoQH",
        "outputId": "165876d4-26ae-42ee-9806-5b10af3dc82b"
      },
      "execution_count": null,
      "outputs": [
        {
          "output_type": "stream",
          "name": "stdout",
          "text": [
            "(8982, 13341)\n"
          ]
        }
      ]
    },
    {
      "cell_type": "code",
      "source": [
        "# 1. Multinomial Naive Bayes Classifier(NB)\n",
        "model = MultinomialNB()\n",
        "model.fit(tfidfv, y_train)\n",
        "predicted = model.predict(tfidfv_test)\n",
        "print('accuracy :', accuracy_score(y_test, predicted))"
      ],
      "metadata": {
        "colab": {
          "base_uri": "https://localhost:8080/"
        },
        "id": "AbXgJSi6UqV5",
        "outputId": "3b8fda5e-f4fd-4f9a-9cc8-4ccf90360529"
      },
      "execution_count": null,
      "outputs": [
        {
          "output_type": "stream",
          "name": "stdout",
          "text": [
            "accuracy : 0.6393588601959038\n"
          ]
        }
      ]
    },
    {
      "cell_type": "code",
      "source": [
        "# 2. Complement Naive Bayes Classifier(CNB)\n",
        "cb = ComplementNB()\n",
        "cb.fit(tfidfv, y_train)\n",
        "predicted = cb.predict(tfidfv_test)\n",
        "print('accuracy :', accuracy_score(y_test, predicted))"
      ],
      "metadata": {
        "colab": {
          "base_uri": "https://localhost:8080/"
        },
        "id": "JmBELhlzUtgN",
        "outputId": "4f1db486-3646-4487-9769-efe4381b564c"
      },
      "execution_count": null,
      "outputs": [
        {
          "output_type": "stream",
          "name": "stdout",
          "text": [
            "accuracy : 0.7733748886910062\n"
          ]
        }
      ]
    },
    {
      "cell_type": "code",
      "source": [
        "# 3. Logistic Regression\n",
        "lr = LogisticRegression(C=10000, penalty='l2', max_iter=3000)\n",
        "lr.fit(tfidfv, y_train)\n",
        "predicted = lr.predict(tfidfv_test)\n",
        "print('accuracy :', accuracy_score(y_test, predicted))"
      ],
      "metadata": {
        "colab": {
          "base_uri": "https://localhost:8080/"
        },
        "id": "aZ5hxcigUwDf",
        "outputId": "e3228b73-c383-4949-fe52-bb317d9c8712"
      },
      "execution_count": null,
      "outputs": [
        {
          "output_type": "stream",
          "name": "stdout",
          "text": [
            "accuracy : 0.8138913624220837\n"
          ]
        }
      ]
    },
    {
      "cell_type": "code",
      "source": [
        "# 4. Linear Support Vector Machine(SVM)\n",
        "lsvc = LinearSVC(C=10000, penalty='l1', max_iter=3000, dual=False)\n",
        "lsvc.fit(tfidfv, y_train)\n",
        "predicted = lsvc.predict(tfidfv_test)\n",
        "print('accuracy :', accuracy_score(y_test, predicted))"
      ],
      "metadata": {
        "colab": {
          "base_uri": "https://localhost:8080/"
        },
        "id": "lSEjyU5BUzXe",
        "outputId": "12455629-41d9-4c68-d3bb-b455d3507227"
      },
      "execution_count": null,
      "outputs": [
        {
          "output_type": "stream",
          "name": "stdout",
          "text": [
            "accuracy : 0.763579697239537\n"
          ]
        },
        {
          "output_type": "stream",
          "name": "stderr",
          "text": [
            "/usr/local/lib/python3.7/dist-packages/sklearn/svm/_base.py:1208: ConvergenceWarning: Liblinear failed to converge, increase the number of iterations.\n",
            "  ConvergenceWarning,\n"
          ]
        }
      ]
    },
    {
      "cell_type": "code",
      "source": [
        "# 5. Decision Tree\n",
        "tree = DecisionTreeClassifier(max_depth=10, random_state=0)\n",
        "tree.fit(tfidfv, y_train)\n",
        "predicted = tree.predict(tfidfv_test)\n",
        "print('accuracy :', accuracy_score(y_test, predicted))"
      ],
      "metadata": {
        "colab": {
          "base_uri": "https://localhost:8080/"
        },
        "id": "ZBe4NCXfU07N",
        "outputId": "e67c66f1-ee8d-48d3-f379-e754db64623a"
      },
      "execution_count": null,
      "outputs": [
        {
          "output_type": "stream",
          "name": "stdout",
          "text": [
            "accuracy : 0.6179875333926982\n"
          ]
        }
      ]
    },
    {
      "cell_type": "code",
      "source": [
        "# 6. Random Forest\n",
        "forest = RandomForestClassifier(n_estimators=5, random_state=0)\n",
        "forest.fit(tfidfv, y_train)\n",
        "predicted = forest.predict(tfidfv_test)\n",
        "print('accuracy :', accuracy_score(y_test, predicted))"
      ],
      "metadata": {
        "colab": {
          "base_uri": "https://localhost:8080/"
        },
        "id": "vY6up4aaU2uE",
        "outputId": "19d6daaf-e5fd-4101-de5b-2265e8c79062"
      },
      "execution_count": null,
      "outputs": [
        {
          "output_type": "stream",
          "name": "stdout",
          "text": [
            "accuracy : 0.6580587711487088\n"
          ]
        }
      ]
    },
    {
      "cell_type": "code",
      "source": [
        "# 7. GradientBoostingClassifier\n",
        "grbt = GradientBoostingClassifier(random_state=0)\n",
        "grbt.fit(tfidfv, y_train)\n",
        "predicted = grbt.predict(tfidfv_test)\n",
        "print('accuracy :', accuracy_score(y_test, predicted))"
      ],
      "metadata": {
        "colab": {
          "base_uri": "https://localhost:8080/"
        },
        "id": "i7hvA4c3U5PP",
        "outputId": "532413d9-4dba-43ac-be14-656a5673e5ca"
      },
      "execution_count": null,
      "outputs": [
        {
          "output_type": "stream",
          "name": "stdout",
          "text": [
            "accuracy : 0.7729296527159395\n"
          ]
        }
      ]
    },
    {
      "cell_type": "code",
      "source": [
        "# 8. Voting\n",
        "voting_classifier = VotingClassifier(estimators=[\n",
        "    ('lr', LogisticRegression(C=10000, max_iter=3000, penalty='l2')),\n",
        "    ('cb', ComplementNB()),\n",
        "    ('grbt', GradientBoostingClassifier(random_state=0))\n",
        "], voting='soft')\n",
        "voting_classifier.fit(tfidfv, y_train)\n",
        "predicted = voting_classifier.predict(tfidfv_test)\n",
        "print('accuracy :', accuracy_score(y_test, predicted))"
      ],
      "metadata": {
        "colab": {
          "base_uri": "https://localhost:8080/"
        },
        "id": "zXwtA-OkU660",
        "outputId": "1d921b44-07b1-4d21-c412-5cf7091a175d"
      },
      "execution_count": null,
      "outputs": [
        {
          "output_type": "stream",
          "name": "stdout",
          "text": [
            "accuracy : 0.8174532502226179\n"
          ]
        }
      ]
    },
    {
      "cell_type": "markdown",
      "source": [
        "|num_words=14000|accuracy|\n",
        "|:----:|:----:|\n",
        "|Naive Bayes Classifier|0.639|\n",
        "|Complement Naive Bayes Classifier|0.773|\n",
        "|Logistic Regression|0.814|\n",
        "|LinearSVC|0.764|\n",
        "|DecisionTree|0.618|\n",
        "|RandomForest|0.658|\n",
        "|Gradient BoostingTree|0.773|\n",
        "|Soft Voting|0.817|\n",
        "\n",
        "전반적으로 값이 올라갔습니다."
      ],
      "metadata": {
        "id": "B8sXo84hX53K"
      }
    },
    {
      "cell_type": "markdown",
      "source": [
        "# **Step8. Total Performance Comparison**\n",
        "단어장의 크기에 따른 모델의 성능을 비교해보겠습니다. \n",
        "\n",
        "|Machine Learning Model|accuracy_6000|accuracy_10000|accuracy_14000|\n",
        "|:----:|:----:|:----:|:----:|\n",
        "|Naive Bayes Classifier|0.669|0.656|0.639|\n",
        "|Complement Naive Bayes Classifier|0.769|0.771|0.773|\n",
        "|Logistic Regression|0.807|0.811|0.814|\n",
        "|LinearSVC|0.770|0.773|0.764|\n",
        "|DecisionTree|0.626|0.620|0.618|\n",
        "|RandomForest|0.687|0.674|0.658|\n",
        "|Gradient BoostingTree|0.764|0.766|0.773|\n",
        "|Soft Voting|0.813|0.816|0.817|\n",
        "\n",
        "- Naive Bayes, DecisionTree, RandomForest는 단어장의 크기가 커질수록 성능이 줄어듬\n",
        "- CNB, LogisticRegression, GradientBoostingTree, Voting은 단어장의 크기가 커질수록 성능이 늘어남\n",
        "- 제일 높은 성능 모델 : num_words=14000, Voting, accuracy=0.817"
      ],
      "metadata": {
        "id": "YvbBUTTSX-Qs"
      }
    },
    {
      "cell_type": "markdown",
      "source": [
        "# **Step9. Performance Comparison with DeepLearning Model**\n",
        "위 과정을 통해 나온 최적의 모델과 단어 수 조건에서, 딥러닝모델을 적용한 결과와 비교해 봅시다.\n"
      ],
      "metadata": {
        "id": "6ql4jRjoY7Y2"
      }
    },
    {
      "cell_type": "code",
      "source": [
        "# 데이터 불러오기\n",
        "(x_train, y_train), (x_test, y_test) = reuters.load_data(num_words=14000, test_split=0.2)"
      ],
      "metadata": {
        "id": "66RRcesjZ6Cb"
      },
      "execution_count": null,
      "outputs": []
    },
    {
      "cell_type": "markdown",
      "source": [
        "해당 데이터는 이미 전처리가된 정수시퀀스 형태입니다. 따라서 바로 패딩을 적용해주겠습니다."
      ],
      "metadata": {
        "id": "xBNEKMLDaWzD"
      }
    },
    {
      "cell_type": "code",
      "source": [
        "# 패딩\n",
        "x_train = pad_sequences(x_train,\n",
        "                        value=0,\n",
        "                        padding='pre',\n",
        "                        maxlen=300)\n",
        "x_test = pad_sequences(x_test,\n",
        "                       value=0,\n",
        "                       padding='pre',\n",
        "                       maxlen=300)"
      ],
      "metadata": {
        "id": "uQi0kiknbISb"
      },
      "execution_count": null,
      "outputs": []
    },
    {
      "cell_type": "code",
      "source": [
        "# 원핫인코딩을 해줍시다\n",
        "from keras.utils.np_utils import to_categorical\n",
        "\n",
        "one_hot_y_train = to_categorical(y_train)\n",
        "one_hot_y_test = to_categorical(y_test)"
      ],
      "metadata": {
        "id": "ooUCAEcdAYaW"
      },
      "execution_count": null,
      "outputs": []
    },
    {
      "cell_type": "markdown",
      "source": [
        "데이터는 준비되었으므로, 이제 모델을 설계하고 훈련을 진행해봅시다."
      ],
      "metadata": {
        "id": "1lsDeQ12b8J7"
      }
    },
    {
      "cell_type": "code",
      "source": [
        "# 모델설계\n",
        "vocab_size = 8000\n",
        "word_vector_dim = 100\n",
        "\n",
        "model = keras.Sequential()\n",
        "model.add(keras.layers.Embedding(vocab_size, word_vector_dim, input_shape=(None,)))\n",
        "model.add(keras.layers.LSTM(64))\n",
        "model.add(keras.layers.Dense(64, activation='relu'))\n",
        "model.add(keras.layers.Dropout(rate=0.2))\n",
        "model.add(keras.layers.Dense(64, activation='relu'))\n",
        "model.add(keras.layers.Dense(46, activation='softmax'))\n",
        "\n",
        "model.summary()"
      ],
      "metadata": {
        "colab": {
          "base_uri": "https://localhost:8080/"
        },
        "id": "c2EBTSUZcARN",
        "outputId": "98e1843b-b7c6-4fa5-cf5c-d3f9b3a40076"
      },
      "execution_count": null,
      "outputs": [
        {
          "output_type": "stream",
          "name": "stdout",
          "text": [
            "Model: \"sequential_53\"\n",
            "_________________________________________________________________\n",
            " Layer (type)                Output Shape              Param #   \n",
            "=================================================================\n",
            " embedding_44 (Embedding)    (None, None, 100)         800000    \n",
            "                                                                 \n",
            " lstm_41 (LSTM)              (None, 64)                42240     \n",
            "                                                                 \n",
            " dense_154 (Dense)           (None, 64)                4160      \n",
            "                                                                 \n",
            " dropout_24 (Dropout)        (None, 64)                0         \n",
            "                                                                 \n",
            " dense_155 (Dense)           (None, 64)                4160      \n",
            "                                                                 \n",
            " dense_156 (Dense)           (None, 46)                2990      \n",
            "                                                                 \n",
            "=================================================================\n",
            "Total params: 853,550\n",
            "Trainable params: 853,550\n",
            "Non-trainable params: 0\n",
            "_________________________________________________________________\n"
          ]
        }
      ]
    },
    {
      "cell_type": "code",
      "source": [
        "# 모델훈련\n",
        "epochs = 35\n",
        "\n",
        "model.compile(optimizer='adam',\n",
        "             loss='categorical_crossentropy',\n",
        "             metrics=['accuracy'])\n",
        "\n",
        "model.fit(x_train, one_hot_y_train,\n",
        "         epochs=epochs,\n",
        "         batch_size=128,\n",
        "         validation_data=(x_test, one_hot_y_test),\n",
        "         verbose=1)"
      ],
      "metadata": {
        "colab": {
          "base_uri": "https://localhost:8080/"
        },
        "id": "juQttTjCcJlB",
        "outputId": "9008e2b6-f193-4d80-cdbc-cc4fd0d18a5a"
      },
      "execution_count": null,
      "outputs": [
        {
          "output_type": "stream",
          "name": "stdout",
          "text": [
            "Epoch 1/35\n",
            "71/71 [==============================] - 4s 31ms/step - loss: 2.8543 - accuracy: 0.3351 - val_loss: 2.1496 - val_accuracy: 0.4568\n",
            "Epoch 2/35\n",
            "71/71 [==============================] - 2s 23ms/step - loss: 1.9311 - accuracy: 0.4706 - val_loss: 1.7910 - val_accuracy: 0.5583\n",
            "Epoch 3/35\n",
            "71/71 [==============================] - 2s 23ms/step - loss: 1.7561 - accuracy: 0.5024 - val_loss: 1.7523 - val_accuracy: 0.5356\n",
            "Epoch 4/35\n",
            "71/71 [==============================] - 2s 23ms/step - loss: 1.6382 - accuracy: 0.5571 - val_loss: 1.7418 - val_accuracy: 0.5401\n",
            "Epoch 5/35\n",
            "71/71 [==============================] - 2s 23ms/step - loss: 1.5218 - accuracy: 0.5755 - val_loss: 1.7103 - val_accuracy: 0.5516\n",
            "Epoch 6/35\n",
            "71/71 [==============================] - 2s 23ms/step - loss: 1.4396 - accuracy: 0.5993 - val_loss: 1.7352 - val_accuracy: 0.5797\n",
            "Epoch 7/35\n",
            "71/71 [==============================] - 2s 23ms/step - loss: 1.4352 - accuracy: 0.5912 - val_loss: 1.6948 - val_accuracy: 0.5810\n",
            "Epoch 8/35\n",
            "71/71 [==============================] - 2s 23ms/step - loss: 1.3239 - accuracy: 0.6316 - val_loss: 1.7388 - val_accuracy: 0.5663\n",
            "Epoch 9/35\n",
            "71/71 [==============================] - 2s 23ms/step - loss: 1.2464 - accuracy: 0.6555 - val_loss: 1.7697 - val_accuracy: 0.5788\n",
            "Epoch 10/35\n",
            "71/71 [==============================] - 2s 23ms/step - loss: 1.1863 - accuracy: 0.6810 - val_loss: 1.7413 - val_accuracy: 0.5966\n",
            "Epoch 11/35\n",
            "71/71 [==============================] - 2s 22ms/step - loss: 1.1549 - accuracy: 0.6770 - val_loss: 1.7619 - val_accuracy: 0.6011\n",
            "Epoch 12/35\n",
            "71/71 [==============================] - 2s 23ms/step - loss: 1.0936 - accuracy: 0.6937 - val_loss: 1.7593 - val_accuracy: 0.6002\n",
            "Epoch 13/35\n",
            "71/71 [==============================] - 2s 23ms/step - loss: 1.0320 - accuracy: 0.7130 - val_loss: 1.8242 - val_accuracy: 0.6144\n",
            "Epoch 14/35\n",
            "71/71 [==============================] - 2s 23ms/step - loss: 0.9683 - accuracy: 0.7200 - val_loss: 1.8895 - val_accuracy: 0.5984\n",
            "Epoch 15/35\n",
            "71/71 [==============================] - 2s 23ms/step - loss: 0.9336 - accuracy: 0.7303 - val_loss: 1.8703 - val_accuracy: 0.6131\n",
            "Epoch 16/35\n",
            "71/71 [==============================] - 2s 23ms/step - loss: 0.8755 - accuracy: 0.7460 - val_loss: 1.9391 - val_accuracy: 0.6144\n",
            "Epoch 17/35\n",
            "71/71 [==============================] - 2s 23ms/step - loss: 0.8288 - accuracy: 0.7633 - val_loss: 1.9349 - val_accuracy: 0.6082\n",
            "Epoch 18/35\n",
            "71/71 [==============================] - 2s 23ms/step - loss: 0.7916 - accuracy: 0.7779 - val_loss: 1.9884 - val_accuracy: 0.6131\n",
            "Epoch 19/35\n",
            "71/71 [==============================] - 2s 23ms/step - loss: 0.7205 - accuracy: 0.7949 - val_loss: 2.0502 - val_accuracy: 0.6380\n",
            "Epoch 20/35\n",
            "71/71 [==============================] - 2s 23ms/step - loss: 0.6663 - accuracy: 0.8125 - val_loss: 2.0965 - val_accuracy: 0.6060\n",
            "Epoch 21/35\n",
            "71/71 [==============================] - 2s 23ms/step - loss: 0.6474 - accuracy: 0.8165 - val_loss: 2.1875 - val_accuracy: 0.6429\n",
            "Epoch 22/35\n",
            "71/71 [==============================] - 2s 23ms/step - loss: 0.6246 - accuracy: 0.8205 - val_loss: 2.1633 - val_accuracy: 0.6233\n",
            "Epoch 23/35\n",
            "71/71 [==============================] - 2s 23ms/step - loss: 0.5853 - accuracy: 0.8320 - val_loss: 2.1897 - val_accuracy: 0.6443\n",
            "Epoch 24/35\n",
            "71/71 [==============================] - 2s 23ms/step - loss: 0.5244 - accuracy: 0.8457 - val_loss: 2.3898 - val_accuracy: 0.6380\n",
            "Epoch 25/35\n",
            "71/71 [==============================] - 2s 23ms/step - loss: 0.5065 - accuracy: 0.8542 - val_loss: 2.4100 - val_accuracy: 0.6456\n",
            "Epoch 26/35\n",
            "71/71 [==============================] - 2s 23ms/step - loss: 0.4857 - accuracy: 0.8602 - val_loss: 2.4634 - val_accuracy: 0.6345\n",
            "Epoch 27/35\n",
            "71/71 [==============================] - 2s 23ms/step - loss: 0.4675 - accuracy: 0.8656 - val_loss: 2.4969 - val_accuracy: 0.6269\n",
            "Epoch 28/35\n",
            "71/71 [==============================] - 2s 23ms/step - loss: 0.4324 - accuracy: 0.8798 - val_loss: 2.6324 - val_accuracy: 0.6305\n",
            "Epoch 29/35\n",
            "71/71 [==============================] - 2s 23ms/step - loss: 0.5405 - accuracy: 0.8393 - val_loss: 2.4441 - val_accuracy: 0.5833\n",
            "Epoch 30/35\n",
            "71/71 [==============================] - 2s 23ms/step - loss: 0.5225 - accuracy: 0.8501 - val_loss: 2.4788 - val_accuracy: 0.6500\n",
            "Epoch 31/35\n",
            "71/71 [==============================] - 2s 23ms/step - loss: 0.4207 - accuracy: 0.8807 - val_loss: 2.4820 - val_accuracy: 0.6407\n",
            "Epoch 32/35\n",
            "71/71 [==============================] - 2s 23ms/step - loss: 0.4706 - accuracy: 0.8779 - val_loss: 2.5049 - val_accuracy: 0.6429\n",
            "Epoch 33/35\n",
            "71/71 [==============================] - 2s 23ms/step - loss: 0.4402 - accuracy: 0.8850 - val_loss: 2.5387 - val_accuracy: 0.6398\n",
            "Epoch 34/35\n",
            "71/71 [==============================] - 2s 23ms/step - loss: 0.5582 - accuracy: 0.8358 - val_loss: 2.5940 - val_accuracy: 0.6153\n",
            "Epoch 35/35\n",
            "71/71 [==============================] - 2s 23ms/step - loss: 0.4307 - accuracy: 0.8761 - val_loss: 2.5807 - val_accuracy: 0.6411\n"
          ]
        },
        {
          "output_type": "execute_result",
          "data": {
            "text/plain": [
              "<keras.callbacks.History at 0x7efe59a3b390>"
            ]
          },
          "metadata": {},
          "execution_count": 249
        }
      ]
    },
    {
      "cell_type": "code",
      "source": [
        "model.evaluate(x_test, one_hot_y_test)"
      ],
      "metadata": {
        "colab": {
          "base_uri": "https://localhost:8080/"
        },
        "id": "wwHxxery7Wxg",
        "outputId": "58e1db28-fed4-4308-f752-dc558d88a86f"
      },
      "execution_count": null,
      "outputs": [
        {
          "output_type": "stream",
          "name": "stdout",
          "text": [
            "71/71 [==============================] - 1s 9ms/step - loss: 2.5807 - accuracy: 0.6411\n"
          ]
        },
        {
          "output_type": "execute_result",
          "data": {
            "text/plain": [
              "[2.5807442665100098, 0.641139805316925]"
            ]
          },
          "metadata": {},
          "execution_count": 251
        }
      ]
    },
    {
      "cell_type": "markdown",
      "source": [
        "해당 딥러닝모델은 성능이 62%정도밖에 나오지않는다. "
      ],
      "metadata": {
        "id": "xEh6U1WsCIX2"
      }
    },
    {
      "cell_type": "markdown",
      "source": [
        "# 회고\n",
        "- 텐서플로우 데이터셋의 신기한점은 텍스트데이터가아니라 정수시퀀스가 주어진다는 점이다. 모델의 성능을 확인하려할때 따로 전처리를 해주지 않아도 되는점이 편리한거같다.\n",
        "- 이번노드를 진행하면서 많은 머신러닝모델을 사용해 볼 수 있어서 좋았다. 매번 딥러닝모델만 보다보니까 머신러닝을 까먹어가고있었는데 이번 노드를 통해 다시한번 상기시킬 수 있었다.\n",
        "- 좋은 성능을 보인 모델은 로지스틱회귀랑 소프트보팅이다. 조금더 높은 성능을 보인것은 소프트보팅이지만, 나는 로지스틱회귀가 좀 더 마음에 든다. 왜냐하면 학습시간때문이다. 보팅은 학습시키는데 무려 20분이상이 걸렸다. 데이터가 별로 안커서망정이지 데이터가 좀 컷다면 시간을 매우 많이 잡아먹었을것이다. 그에반해 로지스틱회귀는 10분을 넘어간적이없다. 빠른 학습시간에 좋은 성능까지,가성비가 좋은거같다.\n",
        "- 마지막으로 딥러닝모델을 설계해보고, 머신러닝 작업에서 사용했던 동일한 크기의 단어장과 동일한 데이터셋으로 딥러닝 성능을 확인해보는것이었다. 여기서 많은 시간을 할애했다. 모델 설계를 이리저리 바꿔보고, 패딩이나, 옵티마이저, 손실함수 등등 안건드려본게 없는것같다. 이런저런 수정을하다보니 50번이상의 모델설계를 하게되었다. 그럼에도불구하고 모델의 정확도가 70%를 넘긴적이없다...원래이런건지 내가 잘못설계한건지...다른분들이한것을 참조해보았다. 어떤분은 정확도가 80%를 넘겼길래 내가쓴 코드와 비교해보았더니 두가지 차이점이있었다. 첫번째로 계층의 깊이가 나보다 작았다. 이해는 할 수 없었지만 나도 한번 계층의 깊이를 훨씬 낮추어서 학습을 진행해보았지만 큰 성능의 향상은 없었다. 두번째는 벡터화과정이다. 나는 임베딩계층을 이용해서 벡터화를 진행했지만, 이분은 임베딩 계층을 사용하지않고, 정답레이블뿐만아니라 입력데이터도 원핫벡터로 표현한것이다. 말그대로 입력값과 정답레이블이 전부 0과1로 이루어진 데이터를 모델에 넣었던 것이다...데이터가 작았었기때문에 가능한방법인것같다(나도 다음에 써먹어봐야겠다)"
      ],
      "metadata": {
        "id": "Fdxed01DCVoS"
      }
    }
  ]
}